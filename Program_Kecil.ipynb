{
  "nbformat": 4,
  "nbformat_minor": 0,
  "metadata": {
    "colab": {
      "provenance": [],
      "authorship_tag": "ABX9TyNzJmnmJsT2Y0j8Kp4XgZ8D",
      "include_colab_link": true
    },
    "kernelspec": {
      "name": "python3",
      "display_name": "Python 3"
    },
    "language_info": {
      "name": "python"
    }
  },
  "cells": [
    {
      "cell_type": "markdown",
      "metadata": {
        "id": "view-in-github",
        "colab_type": "text"
      },
      "source": [
        "<a href=\"https://colab.research.google.com/github/thariqziyad/program_kecil/blob/main/Program_Kecil.ipynb\" target=\"_parent\"><img src=\"https://colab.research.google.com/assets/colab-badge.svg\" alt=\"Open In Colab\"/></a>"
      ]
    },
    {
      "cell_type": "code",
      "execution_count": 2,
      "metadata": {
        "colab": {
          "base_uri": "https://localhost:8080/"
        },
        "id": "w1BMBU9mtAxH",
        "outputId": "57c77c06-503c-4291-c625-82908c26ae17"
      },
      "outputs": [
        {
          "output_type": "stream",
          "name": "stdout",
          "text": [
            "Bar, Foo, 98, Foo, Bar, 94, Foo, 92, 91, FooBar, 88, Foo, 86, Bar, Foo, 82, Foo, Bar, Foo, 77, 76, FooBar, 74, Foo, Bar, Foo, 68, Foo, Bar, 64, Foo, 62, FooBar, 58, Foo, 56, Bar, Foo, 52, Foo, Bar, 49, Foo, 46, FooBar, 44, Foo, Bar, Foo, 38, Foo, Bar, 34, Foo, 32, FooBar, 28, Foo, 26, Bar, Foo, 22, Foo, Bar, Foo, 16, FooBar, 14, Foo, Bar, Foo, 8, Foo, 4, 1\n"
          ]
        }
      ],
      "source": [
        "#Memulai list, dimulai dari 4 karena 2 dan 3 adalah angka prima sehingga lebih baik di skip, lalu 1 masuk langsung di list akhir\n",
        "A=[x for x in range(4,101)]\n",
        "prime=[2,3] #list angka prima\n",
        "Afin=[1] #list akhir yang akan di print\n",
        "\n",
        "#for loop untuk memisahkan angka prima dengan angka bukan prima\n",
        "for i in A:\n",
        "  for j in prime:\n",
        "    if i%j==0:\n",
        "      Afin.append(i) #apabila bukan angka prima, dimasukkan ke list akhir dan keluar dari loop\n",
        "      break\n",
        "  if Afin[-1]==i:\n",
        "    continue #apabila angka baru saja dimasukkan ke list akhir, angka ini tidak dimasukkan ke list angka prima\n",
        "  prime.append(i) #apabila sampai akhir for loop yang dalam, angka tidak dapat dibagi habis, maka angka masuk ke list angka prima untuk digunakan di loop selanjutnya\n",
        "\n",
        "#loop untuk mengganti angka angka sesuai syarat dengan 'Foo', 'Bar', atau 'FooBar'\n",
        "for i in range(len(Afin)):\n",
        "  if Afin[i]%3==0 and Afin[i]%5==0:\n",
        "    Afin[i]='FooBar'\n",
        "  elif Afin[i]%3==0:\n",
        "    Afin[i]='Foo'\n",
        "  elif Afin[i]%5==0:\n",
        "    Afin[i]='Bar'\n",
        "\n",
        "#agar angka di print dalam urutan terbalik\n",
        "Afin.reverse()\n",
        "\n",
        "#agar angka di print menyamping tidak ke bawah\n",
        "B=str(Afin[0])\n",
        "for i in range(len(Afin)-1):\n",
        "  B+=\", \"+str(Afin[i+1])\n",
        "\n",
        "#print hasil\n",
        "print(B)"
      ]
    }
  ]
}